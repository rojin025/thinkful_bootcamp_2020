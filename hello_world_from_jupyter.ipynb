{
 "cells": [
  {
   "cell_type": "code",
   "execution_count": 1,
   "metadata": {},
   "outputs": [
    {
     "name": "stdout",
     "output_type": "stream",
     "text": [
      "Helloks\n"
     ]
    }
   ],
   "source": [
    "print('Helloks')"
   ]
  },
  {
   "cell_type": "code",
   "execution_count": 2,
   "metadata": {},
   "outputs": [
    {
     "name": "stdout",
     "output_type": "stream",
     "text": [
      "hello\n"
     ]
    }
   ],
   "source": [
    "print(\"hello\")"
   ]
  },
  {
   "cell_type": "code",
   "execution_count": null,
   "metadata": {},
   "outputs": [],
   "source": [
    "# Ask the user for input and store the result in a variable.\n",
    "bottle_count = int(input(\"How many bottles of beer are on the wall?\"))\n",
    "\n",
    "# Substitute in the value `bottle_count` was set to when printing\n",
    "# this message. The {} here will get replaced with `bottle_count` because of `.format(bottle_count)`\n",
    "print(\"There are {} bottles of beer on the wall.\".format(bottle_count)) \n",
    "\n",
    "if input(\"Would you like to take any down?\") == \"yes\":\n",
    "    removed_bottles = int(input(\"Ok, how many?\"))\n",
    "    bottle_count = bottle_count - removed_bottles\n",
    "    print(\"There are now {} bottles on the wall\".format(bottle_count))\n",
    "else:\n",
    "    print(\"Ok, there are still {} bottles on the wall.\".format(bottle_count))"
   ]
  },
  {
   "cell_type": "code",
   "execution_count": null,
   "metadata": {},
   "outputs": [],
   "source": [
    "class Solution:\n",
    "    def twoSum(self, nums, target):\n",
    "        \"\"\"\n",
    "        :type nums: List[int]\n",
    "        :type target: int\n",
    "        :rtype: List[int]\n",
    "        \"\"\"\n",
    "        h = {}\n",
    "        for i, num in enumerate(nums):\n",
    "            n = target - num\n",
    "            if n not in h:\n",
    "                h[num] = i\n",
    "            else:\n",
    "                return [h[n], i]"
   ]
  },
  {
   "cell_type": "code",
   "execution_count": null,
   "metadata": {},
   "outputs": [],
   "source": [
    "def twoSum(self, nums, target):\n",
    "        seen = {}\n",
    "        for i, v in enumerate(nums):\n",
    "            remaining = target - v\n",
    "            if remaining in seen:\n",
    "                return [seen[remaining], i]\n",
    "            seen[v] = i\n",
    "        return []\n",
    "    \n",
    "nums = [2, 7, 11, 15], target = 9,\n"
   ]
  },
  {
   "cell_type": "code",
   "execution_count": null,
   "metadata": {},
   "outputs": [],
   "source": [
    "# Input:\n",
    "# [[0,0,0],\n",
    "#  [0,1,0],\n",
    "#  [0,0,0]]\n",
    "\n",
    "# Output:\n",
    "# [[0,0,0],\n",
    "#  [0,1,0],\n",
    "#  [0,0,0]]\n",
    "\n",
    "class Solution:\n",
    "    def updateMatrix(self, matrix: List[List[int]]) -> List[List[int]]:\n",
    "        m, n = len(matrix), len(matrix[0])\n",
    "        for i, row in enumerate(matrix):\n",
    "            for j, cell in enumerate(row):\n",
    "                if cell:\n",
    "                    top = matrix[i-1][j] if i else float('inf')\n",
    "                    left = matrix[i][j-1] if j else float('inf')\n",
    "                    matrix[i][j] = min(top, left) + 1\n",
    "        for i in reversed(range(m)):\n",
    "            for j in reversed(range(n)):\n",
    "                if cell := matrix[i][j]:\n",
    "                    bottom = matrix[i+1][j] if i < m - 1 else float('inf')\n",
    "                    right = matrix[i][j+1] if j < n - 1 else float('inf')\n",
    "                    matrix[i][j] = min(cell, bottom + 1, right + 1)\n",
    "        return matrix"
   ]
  },
  {
   "cell_type": "code",
   "execution_count": null,
   "metadata": {},
   "outputs": [],
   "source": [
    "# Input: A = [1,2,0,0], K = 34\n",
    "# Output: [1,2,3,4]\n",
    "# Explanation: 1200 + 34 = 1234\n",
    "\n",
    "class Solution(object):\n",
    "    def addToArrayForm(self, A, K):\n",
    "        A[-1] += K\n",
    "        for i in xrange(len(A) - 1, -1, -1):\n",
    "            carry, A[i] = divmod(A[i], 10)\n",
    "            if i: A[i-1] += carry\n",
    "        if carry:\n",
    "            A = map(int, str(carry)) + A\n",
    "        return A\n"
   ]
  },
  {
   "cell_type": "code",
   "execution_count": null,
   "metadata": {},
   "outputs": [],
   "source": []
  },
  {
   "cell_type": "code",
   "execution_count": null,
   "metadata": {},
   "outputs": [],
   "source": []
  },
  {
   "cell_type": "code",
   "execution_count": null,
   "metadata": {},
   "outputs": [],
   "source": []
  },
  {
   "cell_type": "code",
   "execution_count": null,
   "metadata": {},
   "outputs": [],
   "source": []
  },
  {
   "cell_type": "code",
   "execution_count": null,
   "metadata": {},
   "outputs": [],
   "source": []
  },
  {
   "cell_type": "code",
   "execution_count": null,
   "metadata": {},
   "outputs": [],
   "source": []
  },
  {
   "cell_type": "code",
   "execution_count": null,
   "metadata": {},
   "outputs": [],
   "source": []
  },
  {
   "cell_type": "code",
   "execution_count": null,
   "metadata": {},
   "outputs": [],
   "source": []
  },
  {
   "cell_type": "code",
   "execution_count": null,
   "metadata": {},
   "outputs": [],
   "source": []
  },
  {
   "cell_type": "code",
   "execution_count": null,
   "metadata": {},
   "outputs": [],
   "source": []
  },
  {
   "cell_type": "code",
   "execution_count": null,
   "metadata": {},
   "outputs": [],
   "source": []
  },
  {
   "cell_type": "code",
   "execution_count": null,
   "metadata": {},
   "outputs": [],
   "source": []
  }
 ],
 "metadata": {
  "kernelspec": {
   "display_name": "Python 3",
   "language": "python",
   "name": "python3"
  },
  "language_info": {
   "codemirror_mode": {
    "name": "ipython",
    "version": 3
   },
   "file_extension": ".py",
   "mimetype": "text/x-python",
   "name": "python",
   "nbconvert_exporter": "python",
   "pygments_lexer": "ipython3",
   "version": "3.7.4"
  }
 },
 "nbformat": 4,
 "nbformat_minor": 4
}
