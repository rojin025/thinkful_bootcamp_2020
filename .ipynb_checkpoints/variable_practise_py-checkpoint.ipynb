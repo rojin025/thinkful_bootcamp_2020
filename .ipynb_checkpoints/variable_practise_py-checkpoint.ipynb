{
 "cells": [
  {
   "cell_type": "code",
   "execution_count": 1,
   "metadata": {},
   "outputs": [
    {
     "name": "stdout",
     "output_type": "stream",
     "text": [
      "The Thinkful Slack community is a great place to get help or share your work.\n",
      "\n",
      "\n",
      "#general-discussion is where everyone can chat about whatever they like\n",
      "You can get there by going to:\n",
      "thinkful-students.slack.com/messages/general-discussion\n",
      "\n",
      "\n",
      "Data analytics specific conversation is good for #data-analytics, at:\n",
      "thinkful-students.slack.com/messages/data-analytics\n",
      "\n",
      "\n",
      "There's also a #careers channel dedicated to job-hunting:\n",
      "thinkful-students.slack.com/messages/careers\n",
      "\n",
      "\n",
      "Be sure to find your mentor on Slack and introduce yourself to the community.\n"
     ]
    }
   ],
   "source": [
    "# This URL is long. Let's write it just once and store it in a\n",
    "# variable to use later.\n",
    "base_url = \"thinkful-students.slack.com/messages/\"\n",
    "\n",
    "# We're going to use newlines (\"\\n\") to format things nicely.\n",
    "empty_line = \"\\n\"\n",
    "\n",
    "print(\"The Thinkful Slack community is a great place to get help or share your work.\")\n",
    "print(empty_line)\n",
    "\n",
    "print(\"#general-discussion is where everyone can chat about whatever they like\")\n",
    "print(\"You can get there by going to:\")\n",
    "\n",
    "# Now we're going to start using our `base_url` variable multiple\n",
    "# times.\n",
    "print(base_url + \"general-discussion\")\n",
    "print(empty_line)\n",
    "\n",
    "print(\"Data analytics specific conversation is good for #data-analytics, at:\")\n",
    "print(base_url + 'data-analytics')\n",
    "print(empty_line)\n",
    "\n",
    "print(\"There's also a #careers channel dedicated to job-hunting:\")\n",
    "print(base_url + \"careers\")\n",
    "print(empty_line)\n",
    "\n",
    "print(\"Be sure to find your mentor on Slack and introduce yourself to the community.\")"
   ]
  },
  {
   "cell_type": "code",
   "execution_count": 4,
   "metadata": {},
   "outputs": [
    {
     "name": "stdin",
     "output_type": "stream",
     "text": [
      "How many bottles of beer are on the wall? 10\n"
     ]
    },
    {
     "name": "stdout",
     "output_type": "stream",
     "text": [
      "There are 10 bottles of beer on the wall.\n"
     ]
    },
    {
     "name": "stdin",
     "output_type": "stream",
     "text": [
      "Would you like to take any down? Yes\n"
     ]
    },
    {
     "name": "stdout",
     "output_type": "stream",
     "text": [
      "Ok, there are still 10 bottles on the wall.\n"
     ]
    }
   ],
   "source": [
    "# Ask the user for input and store the result in a variable.\n",
    "bottle_count = int(input(\"How many bottles of beer are on the wall?\"))\n",
    "\n",
    "# Substitute in the value `bottle_count` was set to when printing\n",
    "# this message. The {} here will get replaced with `bottle_count` because of `.format(bottle_count)`\n",
    "print(\"There are {} bottles of beer on the wall.\".format(bottle_count)) \n",
    "\n",
    "if input(\"Would you like to take any down?\") == \"yes\":\n",
    "    removed_bottles = int(input(\"Ok, how many?\"))\n",
    "    bottle_count = bottle_count - removed_bottles\n",
    "    print(\"There are now {} bottles on the wall\".format(bottle_count))\n",
    "else:\n",
    "    print(\"Ok, there are still {} bottles on the wall.\".format(bottle_count))\n",
    "    \n",
    "    "
   ]
  },
  {
   "cell_type": "code",
   "execution_count": 5,
   "metadata": {},
   "outputs": [
    {
     "name": "stdout",
     "output_type": "stream",
     "text": [
      "Hello world, my name is Pretty Great Person.\n"
     ]
    }
   ],
   "source": [
    "my_name = \"Pretty Great Person\"\n",
    "\n",
    "# Edit and uncomment the line below if you want to reassign the\n",
    "# value of the `my_name` variable.\n",
    "\n",
    "# my_name = \"\"\n",
    "\n",
    "print(\"Hello world, my name is \" + my_name + \".\")\n"
   ]
  },
  {
   "cell_type": "code",
   "execution_count": 6,
   "metadata": {},
   "outputs": [
    {
     "name": "stdout",
     "output_type": "stream",
     "text": [
      "<class 'str'>\n",
      "The first letter is h\n",
      "The second letter is a\n",
      "3\n",
      "I like ham and eggs\n",
      "Bring me 3 shrubberies, Guido!\n"
     ]
    }
   ],
   "source": [
    "# Start by assigning a string to our variable.\n",
    "food = \"ham\"\n",
    "\n",
    "# Let's see what the built-in `type()`function does.\n",
    "type_of_food = type(food)\n",
    "print(type_of_food)\n",
    "\n",
    "# We can access the characters of a string by index with bracket\n",
    "# notation, starting at index zero.\n",
    "first_letter = food[0]\n",
    "second_letter = food[1]\n",
    "print(\"The first letter is \" + first_letter)\n",
    "print(\"The second letter is \" + second_letter)\n",
    "\n",
    "# We can use the built-in `len()` function to get a string's\n",
    "# \"length\", or the number of characters it contains.\n",
    "print(len(food))\n",
    "\n",
    "# We can concatenate two strings together into one string with\n",
    "# the `+` operator.\n",
    "superfood = food + \" and eggs\"\n",
    "print(\"I like \" + superfood)\n",
    "\n",
    "# We can fill in strings using the `.format()` string method.\n",
    "name = \"Guido\"\n",
    "cost = 3\n",
    "demand = \"Bring me {} shrubberies, {}!\"\n",
    "print(demand.format(cost, name))"
   ]
  },
  {
   "cell_type": "code",
   "execution_count": 7,
   "metadata": {},
   "outputs": [
    {
     "name": "stdout",
     "output_type": "stream",
     "text": [
      "<class 'int'>\n",
      "<class 'float'>\n",
      "5\n",
      "30\n",
      "1.5\n",
      "1\n",
      "9.42\n",
      "0.6000000000000001\n",
      "False\n",
      "Bring me 3 shrubberies!\n"
     ]
    }
   ],
   "source": [
    "# Start by assigning some numbers to our variables.\n",
    "count = 3\n",
    "pi = 3.14\n",
    "\n",
    "# Let's see what the built-in `type()`function does.\n",
    "type_of_count = type(count)\n",
    "type_of_pi = type(pi)\n",
    "print(type_of_count)\n",
    "print(type_of_pi)\n",
    "\n",
    "# We can do math with numbers. The `%` operator is modulo.\n",
    "print(count + 2)\n",
    "print(count * 10 )\n",
    "print(count / 2)\n",
    "print(1337 % 2)\n",
    "\n",
    "# Putting an int and a float together will give you a float.\n",
    "print(count * pi)\n",
    "\n",
    "# Be careful with floating point math.\n",
    "print(.2 + .4)\n",
    "\n",
    "# Numbers are *not* strings, even if they look similar.\n",
    "print(10 == \"10\")\n",
    "\n",
    "# Thankfully it's easy to convert numbers to strings when you\n",
    "# need to:\n",
    "\n",
    "print(\"Bring me \" + str(count) + \" shrubberies!\")"
   ]
  },
  {
   "cell_type": "code",
   "execution_count": 8,
   "metadata": {},
   "outputs": [
    {
     "name": "stdout",
     "output_type": "stream",
     "text": [
      "Welcome Pluto, loading launch codes.\n"
     ]
    }
   ],
   "source": [
    "# Here we're assigning the boolean `True` to the variable\n",
    "# `logged_in`. Try running this code, then changing True to False\n",
    "# to see how that changes the program. (Note the capital \"F\" and\n",
    "# lack of quotation marks.)\n",
    "# What happens if you change the value of `logged_in` to a number\n",
    "# or string instead of a boolean True or False?\n",
    "logged_in = True\n",
    "\n",
    "username = \"Pluto\"\n",
    "\n",
    "# These are conditional statements. We'll cover these later, but\n",
    "# you might be able to make out how they're working here.\n",
    "if logged_in == True:\n",
    "    print(\"Welcome \" + username + \", loading launch codes.\")\n",
    "elif logged_in == False:\n",
    "    print(\"Sorry, I can't load the launch codes unless you log in.\")\n",
    "else:\n",
    "    print(\"Hey pal, no trying to hack the mainframe login.\")"
   ]
  },
  {
   "cell_type": "code",
   "execution_count": null,
   "metadata": {},
   "outputs": [],
   "source": [
    "# Let's assign some variables to start with, including `None`\n",
    "# in a couple places.\n",
    " \n",
    "name = None\n",
    "species = \"Human\"\n",
    "strength = 4\n",
    "magic = 5\n",
    "favorite_color = \"Octarine\"\n",
    "profession = None\n",
    "\n",
    "# Hm, maybe we haven't assigned a name yet...\n",
    "if name is None:\n",
    "    name = input(\"What is your name?\")\n",
    "    print(\"Fantastic, thanks {}\".format(name))\n",
    "\n",
    "# Every adventurer needs a profession.\n",
    "if profession is None:\n",
    "    print(\"{}, you are a {} who needs a profession\".format(name, species))\n",
    "    print(\"Your strength is {} and magic is {},\".format(strength, magic))\n",
    "    print(\"and your favorite color is {}\".format(favorite_color))\n",
    "    profession = input(\"What profession would you like?\")\n",
    "\n",
    "print(\"Welcome, {}. You are a {} {}.\".format(name, species, profession))\n",
    "\n",
    "# Once you've run the program go back and tweak your starting\n",
    "# variables. Does that change the program's behavior?\n",
    "\n",
    "# As a stretch goal, try setting `favorite_color` to None and\n",
    "# getting user input by copying the logic for `name` and\n",
    "# `profession`."
   ]
  },
  {
   "cell_type": "code",
   "execution_count": null,
   "metadata": {},
   "outputs": [],
   "source": []
  }
 ],
 "metadata": {
  "kernelspec": {
   "display_name": "Python 3",
   "language": "python",
   "name": "python3"
  },
  "language_info": {
   "codemirror_mode": {
    "name": "ipython",
    "version": 3
   },
   "file_extension": ".py",
   "mimetype": "text/x-python",
   "name": "python",
   "nbconvert_exporter": "python",
   "pygments_lexer": "ipython3",
   "version": "3.7.4"
  }
 },
 "nbformat": 4,
 "nbformat_minor": 4
}
