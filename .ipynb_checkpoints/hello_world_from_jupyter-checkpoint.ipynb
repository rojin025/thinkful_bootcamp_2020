{
 "cells": [
  {
   "cell_type": "code",
   "execution_count": 1,
   "metadata": {},
   "outputs": [
    {
     "name": "stdout",
     "output_type": "stream",
     "text": [
      "Helloks\n"
     ]
    }
   ],
   "source": [
    "print('Helloks')"
   ]
  },
  {
   "cell_type": "code",
   "execution_count": 2,
   "metadata": {},
   "outputs": [
    {
     "name": "stdout",
     "output_type": "stream",
     "text": [
      "hello\n"
     ]
    }
   ],
   "source": [
    "print(\"hello\")"
   ]
  },
  {
   "cell_type": "code",
   "execution_count": 3,
   "metadata": {},
   "outputs": [
    {
     "name": "stdin",
     "output_type": "stream",
     "text": [
      "How many bottles of beer are on the wall? 10\n"
     ]
    },
    {
     "name": "stdout",
     "output_type": "stream",
     "text": [
      "There are 10 bottles of beer on the wall.\n"
     ]
    },
    {
     "name": "stdin",
     "output_type": "stream",
     "text": [
      "Would you like to take any down? 2\n"
     ]
    },
    {
     "name": "stdout",
     "output_type": "stream",
     "text": [
      "Ok, there are still 10 bottles on the wall.\n"
     ]
    }
   ],
   "source": [
    "# Ask the user for input and store the result in a variable.\n",
    "bottle_count = int(input(\"How many bottles of beer are on the wall?\"))\n",
    "\n",
    "# Substitute in the value `bottle_count` was set to when printing\n",
    "# this message. The {} here will get replaced with `bottle_count` because of `.format(bottle_count)`\n",
    "print(\"There are {} bottles of beer on the wall.\".format(bottle_count)) \n",
    "\n",
    "if input(\"Would you like to take any down?\") == \"yes\":\n",
    "    removed_bottles = int(input(\"Ok, how many?\"))\n",
    "    bottle_count = bottle_count - removed_bottles\n",
    "    print(\"There are now {} bottles on the wall\".format(bottle_count))\n",
    "else:\n",
    "    print(\"Ok, there are still {} bottles on the wall.\".format(bottle_count))"
   ]
  },
  {
   "cell_type": "code",
   "execution_count": null,
   "metadata": {},
   "outputs": [],
   "source": []
  }
 ],
 "metadata": {
  "kernelspec": {
   "display_name": "Python 3",
   "language": "python",
   "name": "python3"
  },
  "language_info": {
   "codemirror_mode": {
    "name": "ipython",
    "version": 3
   },
   "file_extension": ".py",
   "mimetype": "text/x-python",
   "name": "python",
   "nbconvert_exporter": "python",
   "pygments_lexer": "ipython3",
   "version": "3.7.4"
  }
 },
 "nbformat": 4,
 "nbformat_minor": 4
}
